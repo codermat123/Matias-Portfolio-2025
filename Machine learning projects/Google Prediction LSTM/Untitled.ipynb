{
 "cells": [
  {
   "cell_type": "code",
   "execution_count": 1,
   "id": "5136049c",
   "metadata": {},
   "outputs": [
    {
     "name": "stderr",
     "output_type": "stream",
     "text": [
      "2024-01-05 21:10:11.018192: I tensorflow/core/platform/cpu_feature_guard.cc:182] This TensorFlow binary is optimized to use available CPU instructions in performance-critical operations.\n",
      "To enable the following instructions: AVX2 FMA, in other operations, rebuild TensorFlow with the appropriate compiler flags.\n"
     ]
    }
   ],
   "source": [
    "import numpy as np\n",
    "import pandas as pd\n",
    "import matplotlib.pyplot as plt\n",
    "from sklearn.preprocessing import MinMaxScaler\n",
    "from tensorflow.keras.models import Sequential \n",
    "from tensorflow.keras.layers import Dense, LSTM, Dropout\n"
   ]
  },
  {
   "cell_type": "code",
   "execution_count": 2,
   "id": "6e9f56bc",
   "metadata": {},
   "outputs": [
    {
     "data": {
      "text/html": [
       "<div>\n",
       "<style scoped>\n",
       "    .dataframe tbody tr th:only-of-type {\n",
       "        vertical-align: middle;\n",
       "    }\n",
       "\n",
       "    .dataframe tbody tr th {\n",
       "        vertical-align: top;\n",
       "    }\n",
       "\n",
       "    .dataframe thead th {\n",
       "        text-align: right;\n",
       "    }\n",
       "</style>\n",
       "<table border=\"1\" class=\"dataframe\">\n",
       "  <thead>\n",
       "    <tr style=\"text-align: right;\">\n",
       "      <th></th>\n",
       "      <th>Date</th>\n",
       "      <th>Open</th>\n",
       "      <th>High</th>\n",
       "      <th>Low</th>\n",
       "      <th>Close</th>\n",
       "      <th>Volume</th>\n",
       "    </tr>\n",
       "  </thead>\n",
       "  <tbody>\n",
       "    <tr>\n",
       "      <th>0</th>\n",
       "      <td>1/3/2012</td>\n",
       "      <td>325.25</td>\n",
       "      <td>332.83</td>\n",
       "      <td>324.97</td>\n",
       "      <td>663.59</td>\n",
       "      <td>7,380,500</td>\n",
       "    </tr>\n",
       "    <tr>\n",
       "      <th>1</th>\n",
       "      <td>1/4/2012</td>\n",
       "      <td>331.27</td>\n",
       "      <td>333.87</td>\n",
       "      <td>329.08</td>\n",
       "      <td>666.45</td>\n",
       "      <td>5,749,400</td>\n",
       "    </tr>\n",
       "    <tr>\n",
       "      <th>2</th>\n",
       "      <td>1/5/2012</td>\n",
       "      <td>329.83</td>\n",
       "      <td>330.75</td>\n",
       "      <td>326.89</td>\n",
       "      <td>657.21</td>\n",
       "      <td>6,590,300</td>\n",
       "    </tr>\n",
       "    <tr>\n",
       "      <th>3</th>\n",
       "      <td>1/6/2012</td>\n",
       "      <td>328.34</td>\n",
       "      <td>328.77</td>\n",
       "      <td>323.68</td>\n",
       "      <td>648.24</td>\n",
       "      <td>5,405,900</td>\n",
       "    </tr>\n",
       "    <tr>\n",
       "      <th>4</th>\n",
       "      <td>1/9/2012</td>\n",
       "      <td>322.04</td>\n",
       "      <td>322.29</td>\n",
       "      <td>309.46</td>\n",
       "      <td>620.76</td>\n",
       "      <td>11,688,800</td>\n",
       "    </tr>\n",
       "  </tbody>\n",
       "</table>\n",
       "</div>"
      ],
      "text/plain": [
       "       Date    Open    High     Low   Close      Volume\n",
       "0  1/3/2012  325.25  332.83  324.97  663.59   7,380,500\n",
       "1  1/4/2012  331.27  333.87  329.08  666.45   5,749,400\n",
       "2  1/5/2012  329.83  330.75  326.89  657.21   6,590,300\n",
       "3  1/6/2012  328.34  328.77  323.68  648.24   5,405,900\n",
       "4  1/9/2012  322.04  322.29  309.46  620.76  11,688,800"
      ]
     },
     "execution_count": 2,
     "metadata": {},
     "output_type": "execute_result"
    }
   ],
   "source": [
    "data = pd.read_csv('Google_train_data.csv')\n",
    "data.head()"
   ]
  },
  {
   "cell_type": "code",
   "execution_count": 3,
   "id": "609f9162",
   "metadata": {},
   "outputs": [
    {
     "name": "stdout",
     "output_type": "stream",
     "text": [
      "<class 'pandas.core.frame.DataFrame'>\n",
      "RangeIndex: 1258 entries, 0 to 1257\n",
      "Data columns (total 6 columns):\n",
      " #   Column  Non-Null Count  Dtype  \n",
      "---  ------  --------------  -----  \n",
      " 0   Date    1258 non-null   object \n",
      " 1   Open    1258 non-null   float64\n",
      " 2   High    1258 non-null   float64\n",
      " 3   Low     1258 non-null   float64\n",
      " 4   Close   1258 non-null   object \n",
      " 5   Volume  1258 non-null   object \n",
      "dtypes: float64(3), object(3)\n",
      "memory usage: 59.1+ KB\n"
     ]
    }
   ],
   "source": [
    "data.info()"
   ]
  },
  {
   "cell_type": "code",
   "execution_count": 4,
   "id": "72ce1fd0",
   "metadata": {},
   "outputs": [],
   "source": [
    "#Preprocessing of data (transform close to numeric type)\n",
    "data[\"Close\"]=pd.to_numeric(data.Close,errors='coerce')\n",
    "data = data.dropna() #drop null\n",
    "trainData = data.iloc[:,4:5].values"
   ]
  },
  {
   "cell_type": "code",
   "execution_count": 5,
   "id": "b8eb2ee8",
   "metadata": {},
   "outputs": [
    {
     "name": "stdout",
     "output_type": "stream",
     "text": [
      "<class 'pandas.core.frame.DataFrame'>\n",
      "Index: 1149 entries, 0 to 1257\n",
      "Data columns (total 6 columns):\n",
      " #   Column  Non-Null Count  Dtype  \n",
      "---  ------  --------------  -----  \n",
      " 0   Date    1149 non-null   object \n",
      " 1   Open    1149 non-null   float64\n",
      " 2   High    1149 non-null   float64\n",
      " 3   Low     1149 non-null   float64\n",
      " 4   Close   1149 non-null   float64\n",
      " 5   Volume  1149 non-null   object \n",
      "dtypes: float64(4), object(2)\n",
      "memory usage: 62.8+ KB\n"
     ]
    }
   ],
   "source": [
    "data.info()"
   ]
  },
  {
   "cell_type": "code",
   "execution_count": 6,
   "id": "1be9d107",
   "metadata": {},
   "outputs": [
    {
     "data": {
      "text/plain": [
       "(1149, 1)"
      ]
     },
     "execution_count": 6,
     "metadata": {},
     "output_type": "execute_result"
    }
   ],
   "source": [
    "#Rescale data for better data performance\n",
    "sc = MinMaxScaler(feature_range=(0,1))\n",
    "trainData = sc.fit_transform(trainData)\n",
    "trainData.shape"
   ]
  },
  {
   "cell_type": "markdown",
   "id": "74850096",
   "metadata": {},
   "source": [
    "#Prepare data for training\n",
    "Loop starts from 61st day (predict with previous 60)\n",
    "\n",
    "#x: sequence of historical 60 days\n",
    "i: current index in loop, represents the day to make a prediction.\n",
    "i-60: starting index, 60 days before the current day.\n",
    "i-1: ending index, the day just before the current day.\n",
    "\n",
    "y: creates target values from training data "
   ]
  },
  {
   "cell_type": "code",
   "execution_count": 7,
   "id": "f34c27c3",
   "metadata": {},
   "outputs": [],
   "source": [
    "x_train = []\n",
    "y_train = []\n",
    "\n",
    "for i in range (60,1149): #60 : timestep // 1149 : Length of data\n",
    "    x_train.append(trainData[i-60:i,0])\n",
    "    y_train.append(trainData[i,0])\n",
    "    \n",
    "x_train,y_train = np.array(x_train),np.array(y_train)"
   ]
  },
  {
   "cell_type": "code",
   "execution_count": 8,
   "id": "7847bef6",
   "metadata": {},
   "outputs": [
    {
     "data": {
      "text/plain": [
       "(1089, 60, 1)"
      ]
     },
     "execution_count": 8,
     "metadata": {},
     "output_type": "execute_result"
    }
   ],
   "source": [
    "#requirements of Recurrent neural network RNN: batch_size, time_steps, features (reshape 3 dimensional input)\n",
    "#[0] & [1] represents dimensions\n",
    "#batch_size: total no.of sequences (1149 data points minus 60)\n",
    "#time_steps: each sequence with 60 time steps\n",
    "#features: 1 closing stock price\n",
    "\n",
    "x_train = np.reshape(x_train,(x_train.shape[0],x_train.shape[1],1)) \n",
    "x_train.shape"
   ]
  },
  {
   "cell_type": "code",
   "execution_count": 9,
   "id": "da816e99",
   "metadata": {
    "scrolled": true
   },
   "outputs": [],
   "source": [
    "# Define and configure the LSTM-based neural network model for time series prediction\n",
    "#True: Each LSTM Layer produces output for each step in input sequence\n",
    "#False: Single output summarizing info from entire input sequence\n",
    "#Dense: produce model's output (Fully connected layer in neural network) \n",
    "#optimizer: Update weights of network\n",
    "#loss (function): measurement of model performance\n",
    "\n",
    "model = Sequential()\n",
    "\n",
    "# LSTM Layers\n",
    "model.add(LSTM(units=100, return_sequences=True, input_shape=(x_train.shape[1], 1)))\n",
    "model.add(Dropout(0.2))  # Regularization for the first LSTM layer\n",
    "\n",
    "model.add(LSTM(units=100, return_sequences=True))\n",
    "model.add(Dropout(0.2))  # Regularization for the second LSTM layer\n",
    "\n",
    "model.add(LSTM(units=100, return_sequences=True))\n",
    "model.add(Dropout(0.2))  # Regularization for the third LSTM layer\n",
    "\n",
    "model.add(LSTM(units=100, return_sequences=False))\n",
    "model.add(Dropout(0.2))  # Regularization for the fourth and final LSTM layer\n",
    "\n",
    "# Output Layer\n",
    "model.add(Dense(units=1))\n",
    "\n",
    "# Compilation\n",
    "model.compile(optimizer='adam', loss=\"mean_squared_error\")"
   ]
  },
  {
   "cell_type": "code",
   "execution_count": 10,
   "id": "648072a0",
   "metadata": {
    "scrolled": true
   },
   "outputs": [
    {
     "name": "stdout",
     "output_type": "stream",
     "text": [
      "Epoch 1/20\n",
      "35/35 - 12s - loss: 0.0395 - 12s/epoch - 337ms/step\n",
      "Epoch 2/20\n",
      "35/35 - 4s - loss: 0.0117 - 4s/epoch - 110ms/step\n",
      "Epoch 3/20\n",
      "35/35 - 4s - loss: 0.0096 - 4s/epoch - 108ms/step\n",
      "Epoch 4/20\n",
      "35/35 - 4s - loss: 0.0082 - 4s/epoch - 113ms/step\n",
      "Epoch 5/20\n",
      "35/35 - 4s - loss: 0.0092 - 4s/epoch - 109ms/step\n",
      "Epoch 6/20\n",
      "35/35 - 4s - loss: 0.0075 - 4s/epoch - 108ms/step\n",
      "Epoch 7/20\n",
      "35/35 - 4s - loss: 0.0078 - 4s/epoch - 109ms/step\n",
      "Epoch 8/20\n",
      "35/35 - 4s - loss: 0.0070 - 4s/epoch - 112ms/step\n",
      "Epoch 9/20\n",
      "35/35 - 4s - loss: 0.0067 - 4s/epoch - 113ms/step\n",
      "Epoch 10/20\n",
      "35/35 - 4s - loss: 0.0079 - 4s/epoch - 109ms/step\n",
      "Epoch 11/20\n",
      "35/35 - 4s - loss: 0.0065 - 4s/epoch - 107ms/step\n",
      "Epoch 12/20\n",
      "35/35 - 4s - loss: 0.0068 - 4s/epoch - 107ms/step\n",
      "Epoch 13/20\n",
      "35/35 - 4s - loss: 0.0084 - 4s/epoch - 109ms/step\n",
      "Epoch 14/20\n",
      "35/35 - 4s - loss: 0.0061 - 4s/epoch - 109ms/step\n",
      "Epoch 15/20\n",
      "35/35 - 4s - loss: 0.0056 - 4s/epoch - 113ms/step\n",
      "Epoch 16/20\n",
      "35/35 - 4s - loss: 0.0054 - 4s/epoch - 109ms/step\n",
      "Epoch 17/20\n",
      "35/35 - 4s - loss: 0.0057 - 4s/epoch - 114ms/step\n",
      "Epoch 18/20\n",
      "35/35 - 4s - loss: 0.0051 - 4s/epoch - 109ms/step\n",
      "Epoch 19/20\n",
      "35/35 - 4s - loss: 0.0051 - 4s/epoch - 108ms/step\n",
      "Epoch 20/20\n",
      "35/35 - 4s - loss: 0.0048 - 4s/epoch - 107ms/step\n"
     ]
    }
   ],
   "source": [
    "#train ML model (neural netowrk)\n",
    "hist = model.fit(x_train, y_train, epochs = 20, batch_size = 32, verbose=2)"
   ]
  },
  {
   "cell_type": "markdown",
   "id": "a6680c9c",
   "metadata": {},
   "source": [
    "# Loss: Difference between predicted & actual value\n",
    "# Decreasing loss: Model improving at capturing patterns \n"
   ]
  },
  {
   "cell_type": "code",
   "execution_count": 11,
   "id": "bc6c1afc",
   "metadata": {},
   "outputs": [
    {
     "data": {
      "image/png": "[encoded data removed]",
      "text/plain": [
       "<Figure size 640x480 with 1 Axes>"
      ]
     },
     "metadata": {},
     "output_type": "display_data"
    }
   ],
   "source": [
    "plt.plot(hist.history['loss'])\n",
    "plt.title('Training model Loss')\n",
    "plt.ylabel('loss')\n",
    "plt.xlabel('epoch')\n",
    "plt.legend(['train'], loc='upper left')\n",
    "plt.show()"
   ]
  },
  {
   "cell_type": "code",
   "execution_count": 17,
   "id": "8efbb5a2",
   "metadata": {},
   "outputs": [
    {
     "data": {
      "text/plain": [
       "(192, 60, 1)"
      ]
     },
     "execution_count": 17,
     "metadata": {},
     "output_type": "execute_result"
    }
   ],
   "source": [
    "testData = pd.read_csv('Google_test_data.csv')\n",
    "\n",
    "#convert close column to numeric\n",
    "testData['Close']=pd.to_numeric(testData.Close,errors='coerce')\n",
    "\n",
    "#drop null values\n",
    "testData = testData.dropna()\n",
    "\n",
    "#select \"close\" values for testing (4: 5th column at , 0,1,2,3,4)(up till 5)\n",
    "testData = testData.iloc[:,4:5]\n",
    "\n",
    "#prepare target values by selecting closing price @61st row\n",
    "y_test = testData.iloc[60:,0:].values\n",
    "\n",
    "#input array for the model\n",
    "inputClosing = testData.iloc[:,0:].values #take closing prices from test data\n",
    "inputClosing_scaled = sc.transform(inputClosing) #scale with same scaling parameters as training data\n",
    "inputClosing_scaled.shape #check shape of resulting scaled array\n",
    "\n",
    "#input sequence for model\n",
    "x_test = []\n",
    "length = len(testData)\n",
    "timestep = 60\n",
    "\n",
    "\n",
    "for i in range(timestep,length):\n",
    "    x_test.append(inputClosing_scaled[i-timestep:i,0]) #sequence of 60 timesteps each iteration, append to test list\n",
    "x_test = np.array(x_test) #convert to NP array\n",
    "x_test = np.reshape(x_test,(x_test.shape[0],x_test.shape[1],1)) #3 dimensions for LSTM\n",
    "x_test.shape #prepares x_test array \n",
    "#sequences of 60 consecutive days of closing price, formatted for input into LSTM"
   ]
  },
  {
   "cell_type": "code",
   "execution_count": 14,
   "id": "0b2b2c4f",
   "metadata": {},
   "outputs": [
    {
     "name": "stdout",
     "output_type": "stream",
     "text": [
      "6/6 [==============================] - 2s 37ms/step\n"
     ]
    },
    {
     "data": {
      "text/plain": [
       "array([[1.1846982],\n",
       "       [1.1870328],\n",
       "       [1.1974952],\n",
       "       [1.2146724],\n",
       "       [1.2317877],\n",
       "       [1.2393935],\n",
       "       [1.2349284],\n",
       "       [1.2225256],\n",
       "       [1.2109431],\n",
       "       [1.2039956],\n",
       "       [1.1948116],\n",
       "       [1.1822882],\n",
       "       [1.1700674],\n",
       "       [1.1584053],\n",
       "       [1.152454 ],\n",
       "       [1.1529694],\n",
       "       [1.1660086],\n",
       "       [1.1908989],\n",
       "       [1.2234991],\n",
       "       [1.259693 ],\n",
       "       [1.28352  ],\n",
       "       [1.292519 ],\n",
       "       [1.2832141],\n",
       "       [1.2601525],\n",
       "       [1.2327452],\n",
       "       [1.2100598],\n",
       "       [1.1957393],\n",
       "       [1.186282 ],\n",
       "       [1.1747544],\n",
       "       [1.161798 ],\n",
       "       [1.1485219],\n",
       "       [1.1343758],\n",
       "       [1.115381 ],\n",
       "       [1.0920022],\n",
       "       [1.0782185],\n",
       "       [1.0804198],\n",
       "       [1.0962712],\n",
       "       [1.1197915],\n",
       "       [1.1465988],\n",
       "       [1.1671382],\n",
       "       [1.1869612],\n",
       "       [1.2075948],\n",
       "       [1.2292169],\n",
       "       [1.2494136],\n",
       "       [1.2647732],\n",
       "       [1.271117 ],\n",
       "       [1.2658844],\n",
       "       [1.2571704],\n",
       "       [1.2506409],\n",
       "       [1.249842 ],\n",
       "       [1.255971 ],\n",
       "       [1.2616783],\n",
       "       [1.2640141],\n",
       "       [1.2621789],\n",
       "       [1.2603372],\n",
       "       [1.2565066],\n",
       "       [1.248605 ],\n",
       "       [1.2426503],\n",
       "       [1.2464675],\n",
       "       [1.2595434],\n",
       "       [1.2821031],\n",
       "       [1.3125024],\n",
       "       [1.3393927],\n",
       "       [1.3531318],\n",
       "       [1.3514662],\n",
       "       [1.3378986],\n",
       "       [1.3232076],\n",
       "       [1.3128312],\n",
       "       [1.3084776],\n",
       "       [1.3076254],\n",
       "       [1.3090838],\n",
       "       [1.3107165],\n",
       "       [1.3082019],\n",
       "       [1.3037173],\n",
       "       [1.2990862],\n",
       "       [1.2966254],\n",
       "       [1.2971017],\n",
       "       [1.3007394],\n",
       "       [1.3106406],\n",
       "       [1.3270983],\n",
       "       [1.3499128],\n",
       "       [1.3745065],\n",
       "       [1.39329  ],\n",
       "       [1.4027885],\n",
       "       [1.410131 ],\n",
       "       [1.4217082],\n",
       "       [1.4375277],\n",
       "       [1.4527546],\n",
       "       [1.4634867],\n",
       "       [1.4680916],\n",
       "       [1.4700226],\n",
       "       [1.4762315],\n",
       "       [1.4888875],\n",
       "       [1.4996525],\n",
       "       [1.5015227],\n",
       "       [1.492103 ],\n",
       "       [1.4719398],\n",
       "       [1.4449794],\n",
       "       [1.4178944],\n",
       "       [1.3999789],\n",
       "       [1.3951269],\n",
       "       [1.4028028],\n",
       "       [1.420661 ],\n",
       "       [1.4419057],\n",
       "       [1.460503 ],\n",
       "       [1.4720267],\n",
       "       [1.4769971],\n",
       "       [1.4776692],\n",
       "       [1.4788388],\n",
       "       [1.4826233],\n",
       "       [1.4897698],\n",
       "       [1.5007   ],\n",
       "       [1.5132867],\n",
       "       [1.5275825],\n",
       "       [1.5450722],\n",
       "       [1.5616058],\n",
       "       [1.5755876],\n",
       "       [1.5874597],\n",
       "       [1.5999656],\n",
       "       [1.5898018],\n",
       "       [1.551068 ],\n",
       "       [1.4925939],\n",
       "       [1.4336376],\n",
       "       [1.3874456],\n",
       "       [1.3562257],\n",
       "       [1.3378876],\n",
       "       [1.3293669],\n",
       "       [1.3287141],\n",
       "       [1.3273976],\n",
       "       [1.3207682],\n",
       "       [1.318763 ],\n",
       "       [1.328349 ],\n",
       "       [1.3455558],\n",
       "       [1.3605611],\n",
       "       [1.3711451],\n",
       "       [1.3776693],\n",
       "       [1.3790132],\n",
       "       [1.3746215],\n",
       "       [1.3663766],\n",
       "       [1.3532547],\n",
       "       [1.3374987],\n",
       "       [1.3192611],\n",
       "       [1.2876648],\n",
       "       [1.2477933],\n",
       "       [1.2056693],\n",
       "       [1.1683471],\n",
       "       [1.1445394],\n",
       "       [1.1393049],\n",
       "       [1.1506662],\n",
       "       [1.1727281],\n",
       "       [1.2011292],\n",
       "       [1.2302167],\n",
       "       [1.2569032],\n",
       "       [1.280898 ],\n",
       "       [1.3008649],\n",
       "       [1.3173317],\n",
       "       [1.3319663],\n",
       "       [1.3432367],\n",
       "       [1.3442961],\n",
       "       [1.3331875],\n",
       "       [1.3123589],\n",
       "       [1.2878301],\n",
       "       [1.2679981],\n",
       "       [1.2589747],\n",
       "       [1.2629519],\n",
       "       [1.2789078],\n",
       "       [1.2989787],\n",
       "       [1.3186991],\n",
       "       [1.3380091],\n",
       "       [1.3563578],\n",
       "       [1.3722981],\n",
       "       [1.3854065],\n",
       "       [1.3955728],\n",
       "       [1.4008962],\n",
       "       [1.4010756],\n",
       "       [1.3937503],\n",
       "       [1.3819193],\n",
       "       [1.3704636],\n",
       "       [1.3602713],\n",
       "       [1.3507576],\n",
       "       [1.3660927],\n",
       "       [1.4066052],\n",
       "       [1.4583536],\n",
       "       [1.5054203],\n",
       "       [1.5367513],\n",
       "       [1.5464873],\n",
       "       [1.5285336],\n",
       "       [1.4936   ],\n",
       "       [1.4541043],\n",
       "       [1.4253945],\n",
       "       [1.4088223],\n",
       "       [1.3996712]], dtype=float32)"
      ]
     },
     "execution_count": 14,
     "metadata": {},
     "output_type": "execute_result"
    }
   ],
   "source": [
    "#predict model output\n",
    "y_pred = model.predict(x_test)\n",
    "y_pred"
   ]
  },
  {
   "cell_type": "code",
   "execution_count": 15,
   "id": "4f17eef8",
   "metadata": {},
   "outputs": [],
   "source": [
    "predicted_price = sc.inverse_transform(y_pred)"
   ]
  },
  {
   "cell_type": "code",
   "execution_count": 16,
   "id": "95414c61",
   "metadata": {},
   "outputs": [
    {
     "data": {
      "text/plain": [
       "<function matplotlib.pyplot.show(close=None, block=None)>"
      ]
     },
     "execution_count": 16,
     "metadata": {},
     "output_type": "execute_result"
    },
    {
     "data": {
      "image/png": "[encoded data removed]",
      "text/plain": [
       "<Figure size 640x480 with 1 Axes>"
      ]
     },
     "metadata": {},
     "output_type": "display_data"
    }
   ],
   "source": [
    "plt.plot(y_test, color = 'red', label = 'Actual Stock Price')\n",
    "plt.plot(predicted_price, color = 'green', label = 'Predicted Stock price')\n",
    "plt.title('Google stock price prediction')\n",
    "plt.xlabel('Time')\n",
    "plt.ylabel('Stock Price')\n",
    "plt.legend()\n",
    "plt.show"
   ]
  }
 ],
 "metadata": {
  "kernelspec": {
   "display_name": "Python 3 (ipykernel)",
   "language": "python",
   "name": "python3"
  },
  "language_info": {
   "codemirror_mode": {
    "name": "ipython",
    "version": 3
   },
   "file_extension": ".py",
   "mimetype": "text/x-python",
   "name": "python",
   "nbconvert_exporter": "python",
   "pygments_lexer": "ipython3",
   "version": "3.11.5"
  }
 },
 "nbformat": 4,
 "nbformat_minor": 5
}
